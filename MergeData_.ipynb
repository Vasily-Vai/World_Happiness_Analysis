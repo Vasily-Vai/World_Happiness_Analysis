{
 "cells": [
  {
   "cell_type": "markdown",
   "metadata": {},
   "source": [
    "### Import libraries needed"
   ]
  },
  {
   "cell_type": "code",
   "execution_count": 1,
   "metadata": {},
   "outputs": [],
   "source": [
    "import pandas as pd  # For data processing\n",
    "import numpy as np  # To work with math and numeric operations\n",
    "import string  # For working with strings\n",
    "import nltk  # nltk for working with natural language data\n",
    "from collections import Counter  # A kind of dictionary that allows\n",
    "# you to count the number of immutable objects.\n",
    "nltk.download('stopwords')\n"
   ]
  },
  {
   "cell_type": "markdown",
   "metadata": {},
   "source": [
    "### Formation of a dictionary with keys - year, values - columns of the dataset"
   ]
  },
  {
   "cell_type": "code",
   "execution_count": 2,
   "metadata": {},
   "outputs": [],
   "source": [
    "df_columns = {}  # dictionary for columns of datasets\n",
    "for file_name in range(2015, 2021):\n",
    "    # reading data from file into dataframe\n",
    "    df = pd.read_csv(str(str(file_name) + '.csv'), sep=',')\n",
    "    df['Year'] = file_name  # writing the year in a column\n",
    "    # removing punctuation marks from column names\n",
    "    columns = []  # list for converted columns\n",
    "    for column in df.columns:\n",
    "        prev_val = column           # assigning the variable the current value\n",
    "        for punct in string.punctuation:    # of the column name\n",
    "            column = column.lower().replace(punct, ' ')\n",
    "        column = '_'.join(column.split())\n",
    "        df.rename(columns={prev_val: column}, inplace=True)\n",
    "        # rename a column name without punctuation\n",
    "        columns.append(column)\n",
    "        # replenishment of the list of column names with\n",
    "        # the converted name\n",
    "    df_columns[file_name] = columns\n",
    "    # adding key (year) and value (list of column names) to dictionary\n",
    "    exec(\"df%s = df\" % file_name)\n",
    "    # assigning the current dataframe to an object\n",
    "    # with a name including the year\n"
   ]
  },
  {
   "cell_type": "markdown",
   "metadata": {},
   "source": [
    "### Enriching the dictionary with a common list of columns"
   ]
  },
  {
   "cell_type": "code",
   "execution_count": 3,
   "metadata": {},
   "outputs": [],
   "source": [
    "df_columns[0] = ['country', 'score', 'gdp_per_capita',\n",
    "                 'healthy_life_expectancy', 'social_support',\n",
    "                 'freedom_to_make_life_choices',\n",
    "                 'generosity', 'corruption_perception', 'year']\n",
    "min_col = 0\n"
   ]
  },
  {
   "cell_type": "markdown",
   "metadata": {},
   "source": [
    "### Finding common columns among columns of all datasets"
   ]
  },
  {
   "cell_type": "code",
   "execution_count": 4,
   "metadata": {
    "scrolled": true
   },
   "outputs": [
    {
     "name": "stdout",
     "output_type": "stream",
     "text": [
      "2015 Dataframe have the same column country\n",
      "2015 Select an element for | score | column from the list \n",
      "0 happiness_score\n",
      "0\n",
      "2015 Select an element for | gdp_per_capita | column from the list \n",
      "0 economy_gdp_per_capita\n",
      "0\n",
      "2015 Select an element for | healthy_life_expectancy | column from the list \n",
      "0 health_life_expectancy\n",
      "0\n",
      "2015 Select an element for | social_support | column from the list \n",
      "0 country\n",
      "1 region\n",
      "2 happiness_rank\n",
      "3 happiness_score\n",
      "4 standard_error\n",
      "5 economy_gdp_per_capita\n",
      "6 family\n",
      "7 health_life_expectancy\n",
      "8 freedom\n",
      "9 trust_government_corruption\n",
      "10 generosity\n",
      "11 dystopia_residual\n",
      "12 year\n",
      "6\n",
      "2015 Select an element for | freedom_to_make_life_choices | column from the list \n",
      "0 health_life_expectancy\n",
      "1 freedom\n",
      "1\n",
      "2015 Dataframe have the same column generosity\n",
      "2015 Select an element for | corruption_perception | column from the list \n",
      "0 trust_government_corruption\n",
      "0\n",
      "2015 Dataframe have the same column year\n",
      "2016 Dataframe have the same column country\n",
      "2016 Select an element for | score | column from the list \n",
      "0 happiness_score\n",
      "0\n",
      "2016 Select an element for | gdp_per_capita | column from the list \n",
      "0 economy_gdp_per_capita\n",
      "0\n",
      "2016 Select an element for | healthy_life_expectancy | column from the list \n",
      "0 health_life_expectancy\n",
      "0\n",
      "2016 Select an element for | social_support | column from the list \n",
      "0 country\n",
      "1 region\n",
      "2 happiness_rank\n",
      "3 happiness_score\n",
      "4 lower_confidence_interval\n",
      "5 upper_confidence_interval\n",
      "6 economy_gdp_per_capita\n",
      "7 family\n",
      "8 health_life_expectancy\n",
      "9 freedom\n",
      "10 trust_government_corruption\n",
      "11 generosity\n",
      "12 dystopia_residual\n",
      "13 year\n",
      "7\n",
      "2016 Select an element for | freedom_to_make_life_choices | column from the list \n",
      "0 health_life_expectancy\n",
      "1 freedom\n",
      "1\n",
      "2016 Dataframe have the same column generosity\n",
      "2016 Select an element for | corruption_perception | column from the list \n",
      "0 trust_government_corruption\n",
      "0\n",
      "2016 Dataframe have the same column year\n",
      "2017 Dataframe have the same column country\n",
      "2017 Select an element for | score | column from the list \n",
      "0 happiness_score\n",
      "0\n",
      "2017 Select an element for | gdp_per_capita | column from the list \n",
      "0 economy_gdp_per_capita\n",
      "0\n",
      "2017 Select an element for | healthy_life_expectancy | column from the list \n",
      "0 health_life_expectancy\n",
      "0\n",
      "2017 Select an element for | social_support | column from the list \n",
      "0 country\n",
      "1 happiness_rank\n",
      "2 happiness_score\n",
      "3 whisker_high\n",
      "4 whisker_low\n",
      "5 economy_gdp_per_capita\n",
      "6 family\n",
      "7 health_life_expectancy\n",
      "8 freedom\n",
      "9 generosity\n",
      "10 trust_government_corruption\n",
      "11 dystopia_residual\n",
      "12 year\n",
      "6\n",
      "2017 Select an element for | freedom_to_make_life_choices | column from the list \n",
      "0 health_life_expectancy\n",
      "1 freedom\n",
      "1\n",
      "2017 Dataframe have the same column generosity\n",
      "2017 Select an element for | corruption_perception | column from the list \n",
      "0 trust_government_corruption\n",
      "0\n",
      "2017 Dataframe have the same column year\n",
      "2018 Select an element for | country | column from the list \n",
      "0 country_or_region\n",
      "0\n",
      "2018 Dataframe have the same column score\n",
      "2018 Dataframe have the same column gdp_per_capita\n",
      "2018 Dataframe have the same column healthy_life_expectancy\n",
      "2018 Dataframe have the same column social_support\n",
      "2018 Dataframe have the same column freedom_to_make_life_choices\n",
      "2018 Dataframe have the same column generosity\n",
      "2018 Select an element for | corruption_perception | column from the list \n",
      "0 perceptions_of_corruption\n",
      "0\n",
      "2018 Dataframe have the same column year\n",
      "2019 Select an element for | country | column from the list \n",
      "0 country_or_region\n",
      "0\n",
      "2019 Dataframe have the same column score\n",
      "2019 Dataframe have the same column gdp_per_capita\n",
      "2019 Dataframe have the same column healthy_life_expectancy\n",
      "2019 Dataframe have the same column social_support\n",
      "2019 Dataframe have the same column freedom_to_make_life_choices\n",
      "2019 Dataframe have the same column generosity\n",
      "2019 Select an element for | corruption_perception | column from the list \n",
      "0 perceptions_of_corruption\n",
      "0\n",
      "2019 Dataframe have the same column year\n",
      "2020 Select an element for | country | column from the list \n",
      "0 country_name\n",
      "0\n",
      "2020 Select an element for | score | column from the list \n",
      "0 ladder_score\n",
      "1 standard_error_of_ladder_score\n",
      "2 ladder_score_in_dystopia\n",
      "0\n",
      "2020 Select an element for | gdp_per_capita | column from the list \n",
      "0 logged_gdp_per_capita\n",
      "1 explained_by_log_gdp_per_capita\n",
      "0\n",
      "2020 Dataframe have the same column healthy_life_expectancy\n",
      "2020 Dataframe have the same column social_support\n",
      "2020 Dataframe have the same column freedom_to_make_life_choices\n",
      "2020 Dataframe have the same column generosity\n",
      "2020 Select an element for | corruption_perception | column from the list \n",
      "0 perceptions_of_corruption\n",
      "1 explained_by_perceptions_of_corruption\n",
      "0\n",
      "2020 Dataframe have the same column year\n"
     ]
    }
   ],
   "source": [
    "stopwords = nltk.corpus.stopwords.words('english')\n",
    "stopwords.append('per')\n",
    "columnss = {}\n",
    "columnss[min_col] = df_columns[min_col]\n",
    "for key in df_columns.keys():\n",
    "    list_col = []\n",
    "    if key == min_col:\n",
    "        continue\n",
    "    for col in df_columns[min_col]:  # columns from df with min num of columns\n",
    "        list_app = False\n",
    "        words = col.split(sep='_')\n",
    "        cols = []\n",
    "        for val in df_columns[key]:  # columns from other dfs\n",
    "            if col == val:\n",
    "                list_col.append(val)\n",
    "                list_app = True\n",
    "                break\n",
    "            for word in words:\n",
    "                if val.lower().find(word.lower()) != -1 and \\\\\n",
    "                                    (word not in stopwords):\n",
    "                    cols.append(val)\n",
    "                    break\n",
    "\n",
    "        if list_app is False:\n",
    "            if cols == []:\n",
    "                cols = df_columns[key]\n",
    "            print(key, 'Select an element for |',\n",
    "                  col, '| column from the list ')\n",
    "            ind = 0\n",
    "            for elem in cols:\n",
    "                print(ind, elem)\n",
    "                ind += 1\n",
    "            coef = input('')\n",
    "            try:\n",
    "                list_col.append(cols[int(coef)])\n",
    "            except:\n",
    "                list_col.append('')\n",
    "        else:\n",
    "            print(key, 'Dataframe have the same column', col)\n",
    "    columnss[key] = list_col\n"
   ]
  },
  {
   "cell_type": "markdown",
   "metadata": {},
   "source": [
    "### Rename dataset columns to names of similar columns from a dataset with a minimum number of columns"
   ]
  },
  {
   "cell_type": "code",
   "execution_count": 5,
   "metadata": {},
   "outputs": [],
   "source": [
    "for i in range(len(columnss[min_col])):\n",
    "    for j in columnss.keys():\n",
    "        try:\n",
    "            exec(\"df%s = df%s.rename(columns={columnss[%d][%d] \\\n",
    "                 : columnss[%d][%d]})\" % (str(j), str(j), j, i, min_col, i))\n",
    "        except:\n",
    "            continue\n"
   ]
  },
  {
   "cell_type": "markdown",
   "metadata": {},
   "source": [
    "### Combining datasets into one common dataframe by common columns"
   ]
  },
  {
   "cell_type": "code",
   "execution_count": 6,
   "metadata": {},
   "outputs": [],
   "source": [
    "res = pd.concat([df for df in [df2015, df2016, df2017, df2018,\n",
    "                df2019, df2020]], sort=False)[columnss[min_col]]\n"
   ]
  },
  {
   "cell_type": "markdown",
   "metadata": {},
   "source": [
    "### Writing the generated data set to a file"
   ]
  },
  {
   "cell_type": "code",
   "execution_count": 7,
   "metadata": {},
   "outputs": [],
   "source": [
    "res.to_csv('HappinessData.csv', index=False)\n"
   ]
  }
 ],
 "metadata": {
  "kernelspec": {
   "display_name": "Python 3",
   "language": "python",
   "name": "python3"
  },
  "language_info": {
   "codemirror_mode": {
    "name": "ipython",
    "version": 3
   },
   "file_extension": ".py",
   "mimetype": "text/x-python",
   "name": "python",
   "nbconvert_exporter": "python",
   "pygments_lexer": "ipython3",
   "version": "3.8.5"
  }
 },
 "nbformat": 4,
 "nbformat_minor": 4
}
